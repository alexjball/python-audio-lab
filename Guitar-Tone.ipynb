{
 "cells": [
  {
   "cell_type": "code",
   "execution_count": 2,
   "metadata": {},
   "outputs": [],
   "source": [
    "# Load deps for plotting, math, and UI\n",
    "\n",
    "%matplotlib widget\n",
    "\n",
    "import matplotlib\n",
    "import matplotlib.pyplot as plt\n",
    "import numpy as np\n",
    "import scipy.signal\n",
    "from IPython.display import Audio\n",
    "from ipywidgets import interact, interactive, fixed, interact_manual\n",
    "import ipywidgets as widgets\n",
    "import pprint\n",
    "\n",
    "matplotlib.rcParams['figure.figsize'] = [3, 2]\n",
    "\n",
    "def start_figure(label, **kwargs):\n",
    "    \"\"\"Creates a figure and axes, closing an existing one\"\"\"\n",
    "    plt.close(label)\n",
    "    return plt.subplots(**kwargs, num = label)\n",
    "\n",
    "def fig_name():\n",
    "    \"\"\"Returns the name passed to start_figure\"\"\"\n",
    "    return plt.gcf().get_label()"
   ]
  },
  {
   "cell_type": "markdown",
   "metadata": {},
   "source": [
    "# Plotting pickup frequency response\n",
    "\n",
    "A pickup in a circuit with active filters sees a resistive + capacitive input impedance as part of the buffer's input circuit. This modifies the frequency response of the pickup.\n",
    "\n",
    "![pickup](http://buildyourguitar.com/resources/lemme/secrets3.gif)\n",
    "\n",
    "With $C_L$ and $R_L$ the load, $Z_1$ the lumped impedance of the pickup inductance and resistance, $Z_2$ the lumped impedance of the pickup capacitance and load, $V_O$ the potential before the load, and $V_I$ the unfiltered pickup response,\n",
    "\n",
    "$$\n",
    "\\frac{V_O}{V_I} = \\frac{IZ_2}{I(Z_1 + Z_2)} = \\frac{1}{(C + C_L)Ls^2 + (\\frac{L}{R_L} + R(C + C_L))s + (1 + \\frac{R}{R_L})}\n",
    "$$\n",
    "\n",
    "We can feed this into [scipy.signal.freqs](https://docs.scipy.org/doc/scipy/reference/generated/scipy.signal.freqs.html#scipy.signal.freqs) or scipy.signal.freqz. I'm not sure what the difference between the \"analog\" and \"digital\" variants is."
   ]
  },
  {
   "cell_type": "code",
   "execution_count": 9,
   "metadata": {},
   "outputs": [
    {
     "data": {
      "application/vnd.jupyter.widget-view+json": {
       "model_id": "",
       "version_major": 2,
       "version_minor": 0
      },
      "text/plain": [
       "FigureCanvasNbAgg()"
      ]
     },
     "metadata": {},
     "output_type": "display_data"
    },
    {
     "data": {
      "application/vnd.jupyter.widget-view+json": {
       "model_id": "593d8a5fc88a420d85f9096ed27d22a7",
       "version_major": 2,
       "version_minor": 0
      },
      "text/plain": [
       "interactive(children=(FloatSlider(value=7000.0, description='R (Ohm)', max=20000.0, min=1000.0, step=500.0), F…"
      ]
     },
     "metadata": {},
     "output_type": "display_data"
    }
   ],
   "source": [
    "# Typical circuit values for a guitar\n",
    "L = 3.0 # Henry\n",
    "R = 7e3 # Ohm\n",
    "C = 300e-12 # Farad\n",
    "R_L = 1e6 # Ohm, from the cable and volume\n",
    "C_L = 300e-12 # Farad, from the cable and tone\n",
    "\n",
    "def pickup_frequency_response(f, r, l, c, r_l, c_l):\n",
    "    \"\"\"Return the complex pickup frequency response given circuit values\"\"\"\n",
    "    \n",
    "    # Numerator coefficients\n",
    "    b = [1]\n",
    "    # Denominator coefficients\n",
    "    a = [(c + c_l) * l, (l / r_l + r * (c + c_l)), 1 + r / r_l]\n",
    "    _, h = scipy.signal.freqs(b, a, worN = f * 2 * np.pi)\n",
    "    \n",
    "    return h\n",
    "    \n",
    "\n",
    "fig, ax = start_figure('Pickup Frequency Response', figsize = (6, 4))\n",
    "ax.set_xlabel('Hz')\n",
    "ax.set_ylabel('Gain')\n",
    "ax.set_xscale('log')\n",
    "ax.set_yscale('log')\n",
    "ax.set_ylim(1e-1, 10)\n",
    "ax.set_title(fig_name())\n",
    "\n",
    "f = np.linspace(0, 20e3, 400)\n",
    "\n",
    "response_line, = ax.plot(f, np.ones(f.shape))\n",
    "\n",
    "@interact(\n",
    "    r = widgets.FloatSlider(\n",
    "        min = 1e3, max = 20e3, step = .5e3, value = 7e3, description = 'R (Ohm)'),\n",
    "    l = widgets.FloatSlider(\n",
    "        min = .5, max = 7, step = .2, value = 3, description = 'L (H)'),\n",
    "    c = widgets.FloatSlider(\n",
    "        min = 100, max = 700, step = 20, value = 300, description = 'C (pF)'),\n",
    "    r_l = widgets.FloatLogSlider(\n",
    "        min = 3, max = 7, step = .1, value = 1e6, description = 'R_L (Ohm)'),\n",
    "    c_l = widgets.FloatSlider(\n",
    "        min = 50, max = 2000, step = 50, value = 300, description = 'C_L (pF)'))\n",
    "def update_frequency_response(r, l, c, r_l, c_l):\n",
    "    h = pickup_frequency_response(f, r, l, c * 1e-12, r_l, c_l * 1e-12)\n",
    "    response_line.set_ydata(abs(h))\n",
    "    "
   ]
  },
  {
   "cell_type": "code",
   "execution_count": 6,
   "metadata": {},
   "outputs": [],
   "source": [
    "def series(*Zs):\n",
    "    return lambda s: sum(Z(s) for Z in Zs)\n",
    "\n",
    "def parallel(*Zs):\n",
    "    return lambda s: 1.0 / (sum(1.0 / Z(s) for Z in Zs))\n",
    "\n",
    "def cap(capacitance):\n",
    "    return lambda s: 1.0 / (capacitance * s)\n",
    "\n",
    "def ind(inductance):\n",
    "    return lambda s: s * inductance\n",
    "\n",
    "def res(resistance):\n",
    "    return lambda s: resistance\n",
    "\n",
    "def pickup_volume_tone_frequency_response(\n",
    "    f,\n",
    "    r_pickup, \n",
    "    l_pickup, \n",
    "    c_pickup, \n",
    "    c_tone,\n",
    "    r_pot,\n",
    "    volume_value,\n",
    "    tone_value,\n",
    "    r_load,\n",
    "    c_load):\n",
    "    \"\"\"complex transfer function for a pickup with a volume and tone control\"\"\"\n",
    "    \n",
    "    Z_pickup = series(ind(l_pickup), res(r_pickup))\n",
    "    Z_tone = parallel(cap(c_pickup), series(res(r_pot * tone_value), cap(c_tone)))\n",
    "    Z_volume = res(r_pot * (1.0 - volume_value))\n",
    "    Z_load = parallel(res(r_pot * volume_value), cap(c_load), res(r_load))\n",
    "    \n",
    "    alpha = lambda s: Z_volume(s) / Z_load(s) + 1.0\n",
    "    \n",
    "    H = lambda s: Z_pickup(s) ** -1 / (alpha(s) * Z_pickup(s) ** -1 \n",
    "                                       + alpha(s) * Z_tone(s) ** -1 + Z_load(s) ** -1)\n",
    "    \n",
    "    return H(2 * np.pi * f * 1j)"
   ]
  },
  {
   "cell_type": "code",
   "execution_count": 8,
   "metadata": {},
   "outputs": [
    {
     "data": {
      "application/vnd.jupyter.widget-view+json": {
       "model_id": "7180f58a6e0d4cba8e06b921e4334763",
       "version_major": 2,
       "version_minor": 0
      },
      "text/plain": [
       "FigureCanvasNbAgg()"
      ]
     },
     "metadata": {},
     "output_type": "display_data"
    },
    {
     "data": {
      "application/vnd.jupyter.widget-view+json": {
       "model_id": "d8a4c7089acc42fda262343180a7254a",
       "version_major": 2,
       "version_minor": 0
      },
      "text/plain": [
       "interactive(children=(FloatSlider(value=7000.0, description='Pickup R (Ohm)', max=20000.0, min=1000.0, step=50…"
      ]
     },
     "metadata": {},
     "output_type": "display_data"
    }
   ],
   "source": [
    "# Typical circuit values for a guitar\n",
    "L_Pickup = 3.0 # Henry\n",
    "R_Pickup = 7e3 # Ohm\n",
    "C_Pickup = 300e-12 # Farad\n",
    "C_Tone = 22e-9 # Farad. For humbucker. Single coils use 47e-9\n",
    "R_Pot = 250e3 # Ohm. For humbucker. Single coils use 500k\n",
    "Volume_Value = 1 # Position of the volume knob, 1 is full volume\n",
    "Tone_Value = 1 # Position of the tone knob, 1 is full tone\n",
    "R_Load = 1e6 # Ohm, primarily from the amp\n",
    "C_Load = 300e-12 # Farad, primarily from the cable\n",
    "\n",
    "fig, ax = start_figure('Pickup + Volume + Tone Frequency Response', figsize = (6, 4))\n",
    "ax.set_xlabel('Hz')\n",
    "ax.set_ylabel('Gain')\n",
    "ax.set_xscale('log')\n",
    "ax.set_yscale('log')\n",
    "ax.set_ylim(1e-1, 10)\n",
    "ax.set_title(fig_name())\n",
    "\n",
    "f = np.linspace(20, 20e3, 400)\n",
    "\n",
    "response_line, = ax.plot(f, np.ones(f.shape))\n",
    "\n",
    "@interact(\n",
    "    r_pickup = widgets.FloatSlider(\n",
    "        min = 1e3, max = 20e3, step = .5e3, value = 7e3, description = 'Pickup R (Ohm)'),\n",
    "    l_pickup = widgets.FloatSlider(\n",
    "        min = .5, max = 7, step = .2, value = 3, description = 'Pickup L (H)'),\n",
    "    c_pickup = widgets.FloatSlider(\n",
    "        min = 100, max = 700, step = 20, value = 300, description = 'Pickup C (pF)'),\n",
    "    c_tone = widgets.FloatSlider(\n",
    "        min = 0, max = 100, step = 5, value = 22, description = 'C (nF)'),\n",
    "    v_value = widgets.FloatSlider(\n",
    "        min = 0, max = 1, step = .02, value = 1, description = 'Volume knob'),\n",
    "    t_value = widgets.FloatSlider(\n",
    "        min = 0, max = 1, step = .01, value = 1, description = 'Tone knob'),\n",
    "    r_load = widgets.FloatLogSlider(\n",
    "        min = 3, max = 7, step = .1, value = 1e6, description = 'Load R (Ohm)'),\n",
    "    c_load = widgets.FloatSlider(\n",
    "        min = 50, max = 2000, step = 50, value = 300, description = 'Load C (pF)'))\n",
    "def update_frequency_response(\n",
    "    r_pickup, l_pickup, c_pickup, c_tone, v_value, t_value, r_load, c_load):\n",
    "    \n",
    "    h = pickup_volume_tone_frequency_response(\n",
    "        f, \n",
    "        r_pickup,\n",
    "        l_pickup,\n",
    "        c_pickup * 1e-12,\n",
    "        c_tone * 1e-9,\n",
    "        R_Pot,\n",
    "        v_value,\n",
    "        t_value,\n",
    "        r_load, \n",
    "        c_load * 1e-12)\n",
    "\n",
    "    response_line.set_ydata(abs(h))\n",
    "    "
   ]
  },
  {
   "cell_type": "markdown",
   "metadata": {},
   "source": [
    "# Psychoacoustic and Physical Guitar Tone Modeling\n",
    "\n",
    "Guitar players use a lot of poetic terminology to describe sounds, like \"crunchy\", \"tight\", \"flubby\", \"aggressive\", \"growl\", etc. In the end, this is a language that guitarists use to describe sounds. The language is valuable because it provides a more expressive way to communicate about sounds. The language can also be manipulated by marketing, which can takes advantage of the loosely defined terminology to upsell products. \n",
    "\n",
    "Guitarists are always looking make the sound they imagine and describe in their language a reality. This is a hard, creative, emergent, non-deterministic, heuristic, and essential process. Bridging the gap between what you imagine and what is possible is what makes it music, and musicians will seek that out no matter how good technology gets. So making it easy to achieve the sounds you imagine frees our minds up to make more creative music.\n",
    "\n",
    "# Problems\n",
    "\n",
    "- Guitar electronics can be finiky\n",
    "- Can be hard to dial in tone\n",
    "- Volume issues\n",
    "\n",
    "# Solutions\n",
    "\n",
    "- Custom control inputs\n",
    "- Digital control units\n",
    "- Onboard preamps\n",
    "- Digital connection between pedal and guitar"
   ]
  }
 ],
 "metadata": {
  "kernelspec": {
   "display_name": "Python 3",
   "language": "python",
   "name": "python3"
  },
  "language_info": {
   "codemirror_mode": {
    "name": "ipython",
    "version": 3
   },
   "file_extension": ".py",
   "mimetype": "text/x-python",
   "name": "python",
   "nbconvert_exporter": "python",
   "pygments_lexer": "ipython3",
   "version": "3.7.3"
  }
 },
 "nbformat": 4,
 "nbformat_minor": 2
}
