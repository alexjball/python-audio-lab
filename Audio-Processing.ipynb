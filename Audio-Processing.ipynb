{
 "cells": [
  {
   "cell_type": "markdown",
   "metadata": {},
   "source": [
    "# Audio Processing\n",
    "\n",
    "This notebook plays with different audio procesing algorithms and develops a flexible way to wire them up.\n",
    "\n",
    "The problem: ad-hoc implementations of processing algorithms mix I/O and algorithm logic, making the algorithm less portable.\n",
    "\n",
    "The solution: define standard patterns for algorithms to declare inputs and outputs and specify how data moves from inputs to outputs, and for clients to create and join algorithms into a full processing graph.\n",
    "\n",
    "Use cases:\n",
    "- Recording a song\n",
    "- Creating a visualization that can analyze audio files or live inputs\n",
    "- Creating a real-time audio effect\n",
    "- Creating an offline audio effect\n",
    "\n",
    "# Design\n",
    "\n",
    "The data flow building block is the Channel, a one-way 1-N data transport. \n",
    "\n",
    "Channel output can be connected to buffers or transform methods. Channels have a write method for input.\n",
    "\n",
    "Algorithms use one channel per logical input and output. They configure the output side of their input channels, input side of their output channels using buffers or transform objects. They are also responsible for scheduling work to read and write any buffers used to connect inputs and outputs."
   ]
  },
  {
   "cell_type": "code",
   "execution_count": 2,
   "metadata": {},
   "outputs": [
    {
     "data": {
      "application/vnd.jupyter.widget-view+json": {
       "model_id": "cd06d1d607c540fba8d6fdf88a80a39d",
       "version_major": 2,
       "version_minor": 0
      },
      "text/plain": [
       "Button(description='Clear logs', style=ButtonStyle())"
      ]
     },
     "metadata": {},
     "output_type": "display_data"
    },
    {
     "data": {
      "application/vnd.jupyter.widget-view+json": {
       "model_id": "a331f74973ba4de9adb38746bb1b77ab",
       "version_major": 2,
       "version_minor": 0
      },
      "text/plain": [
       "Output(layout=Layout(border='1px solid white', height='300px', overflow='auto'))"
      ]
     },
     "metadata": {},
     "output_type": "display_data"
    }
   ],
   "source": [
    "%matplotlib widget\n",
    "\n",
    "import matplotlib.pyplot as plt\n",
    "from matplotlib.animation import FuncAnimation\n",
    "import pyaudio\n",
    "import numpy as np\n",
    "from IPython.display import display\n",
    "import ipywidgets as widgets\n",
    "from pprint import pprint\n",
    "import logging\n",
    "import threading\n",
    "import librosa\n",
    "import time\n",
    "\n",
    "from jupyter_utils import *\n",
    "from audio_lab import Daw\n",
    "\n",
    "# Set up the root logger and display its output in this cell.\n",
    "logger = get_cell_logger()\n",
    "logger.show_logs()"
   ]
  },
  {
   "cell_type": "code",
   "execution_count": 3,
   "metadata": {},
   "outputs": [
    {
     "data": {
      "application/vnd.jupyter.widget-view+json": {
       "model_id": "9c2152237c72415a9821588e295e09bd",
       "version_major": 2,
       "version_minor": 0
      },
      "text/plain": [
       "FigureCanvasNbAgg()"
      ]
     },
     "metadata": {},
     "output_type": "display_data"
    },
    {
     "data": {
      "application/vnd.jupyter.widget-view+json": {
       "model_id": "551a83ae492045788b0370dbe1015c04",
       "version_major": 2,
       "version_minor": 0
      },
      "text/plain": [
       "Button(description='Start', style=ButtonStyle())"
      ]
     },
     "metadata": {},
     "output_type": "display_data"
    },
    {
     "data": {
      "application/vnd.jupyter.widget-view+json": {
       "model_id": "e0420febca674f8c84a742b6e3dae80f",
       "version_major": 2,
       "version_minor": 0
      },
      "text/plain": [
       "Button(description='Terminate', style=ButtonStyle())"
      ]
     },
     "metadata": {},
     "output_type": "display_data"
    },
    {
     "data": {
      "application/vnd.jupyter.widget-view+json": {
       "model_id": "817f1f524bf049bab8247bb0f3f070d7",
       "version_major": 2,
       "version_minor": 0
      },
      "text/plain": [
       "Button(description='Clear logs', style=ButtonStyle())"
      ]
     },
     "metadata": {},
     "output_type": "display_data"
    },
    {
     "data": {
      "application/vnd.jupyter.widget-view+json": {
       "model_id": "830c37b3153442e38797d4c8467e6a7d",
       "version_major": 2,
       "version_minor": 0
      },
      "text/plain": [
       "Output(layout=Layout(border='1px solid white', height='300px', overflow='auto'))"
      ]
     },
     "metadata": {},
     "output_type": "display_data"
    },
    {
     "data": {
      "application/vnd.jupyter.widget-view+json": {
       "model_id": "79047226e4e945c3b16fc2f0cecd25fc",
       "version_major": 2,
       "version_minor": 0
      },
      "text/plain": [
       "Output(layout=Layout(border='1px solid white'))"
      ]
     },
     "metadata": {},
     "output_type": "display_data"
    }
   ],
   "source": [
    "try:\n",
    "    daw.terminate()\n",
    "except NameError:\n",
    "    pass\n",
    "\n",
    "fig, ax = start_figure(\"DAW Monitor\", figsize=(8, 5))\n",
    "daw = Daw()\n",
    "\n",
    "# ax.plot(range(10))\n",
    "# plt.show()\n"
   ]
  }
 ],
 "metadata": {
  "kernelspec": {
   "display_name": "Python 3",
   "language": "python",
   "name": "python3"
  },
  "language_info": {
   "codemirror_mode": {
    "name": "ipython",
    "version": 3
   },
   "file_extension": ".py",
   "mimetype": "text/x-python",
   "name": "python",
   "nbconvert_exporter": "python",
   "pygments_lexer": "ipython3",
   "version": "3.7.3"
  }
 },
 "nbformat": 4,
 "nbformat_minor": 2
}
