{
 "cells": [
  {
   "cell_type": "markdown",
   "metadata": {},
   "source": [
    "# Audio Processing\n",
    "\n",
    "This notebook plays with different audio procesing algorithms and develops a flexible way to wire them up.\n",
    "\n",
    "The problem: ad-hoc implementations of processing algorithms mix I/O and algorithm logic, making the algorithm less portable.\n",
    "\n",
    "The solution: define standard patterns for algorithms to declare inputs and outputs and specify how data moves from inputs to outputs, and for clients to create and join algorithms into a full processing graph.\n",
    "\n",
    "Use cases:\n",
    "- Recording a song\n",
    "- Creating a visualization that can analyze audio files or live inputs\n",
    "- Creating a real-time audio effect\n",
    "- Creating an offline audio effect\n",
    "\n",
    "# Design\n",
    "\n",
    "The data flow building block is the Channel, a one-way 1-N data transport. \n",
    "\n",
    "Channel output can be connected to buffers or transform methods. Channels have a write method for input.\n",
    "\n",
    "Algorithms use one channel per logical input and output. They configure the output side of their input channels, input side of their output channels using buffers or transform objects. They are also responsible for scheduling work to read and write any buffers used to connect inputs and outputs."
   ]
  },
  {
   "cell_type": "code",
   "execution_count": 2,
   "metadata": {},
   "outputs": [
    {
     "data": {
      "application/vnd.jupyter.widget-view+json": {
       "model_id": "d0abd36c80184f9ea9d1ef9b132f073d",
       "version_major": 2,
       "version_minor": 0
      },
      "text/plain": [
       "Button(description='Clear logs', style=ButtonStyle())"
      ]
     },
     "metadata": {},
     "output_type": "display_data"
    },
    {
     "data": {
      "application/vnd.jupyter.widget-view+json": {
       "model_id": "81fc8487aa9742feac7891ece341b9e5",
       "version_major": 2,
       "version_minor": 0
      },
      "text/plain": [
       "Output(layout=Layout(border='1px solid white', height='300px', overflow='auto'))"
      ]
     },
     "metadata": {},
     "output_type": "display_data"
    }
   ],
   "source": [
    "%matplotlib widget\n",
    "\n",
    "import matplotlib.pyplot as plt\n",
    "from matplotlib.animation import FuncAnimation\n",
    "import pyaudio\n",
    "import numpy as np\n",
    "from IPython.display import display\n",
    "import ipywidgets as widgets\n",
    "from pprint import pprint\n",
    "import logging\n",
    "import threading\n",
    "import librosa\n",
    "import time\n",
    "\n",
    "from jupyter_utils import *\n",
    "from audio_lab.daw import Daw\n",
    "\n",
    "# Set up the root logger and display its output in this cell.\n",
    "logger = get_cell_logger()\n",
    "logger.show_logs()"
   ]
  },
  {
   "cell_type": "code",
   "execution_count": 3,
   "metadata": {},
   "outputs": [
    {
     "data": {
      "application/vnd.jupyter.widget-view+json": {
       "model_id": "e690e32f301a48dfa6ec2963fb351a13",
       "version_major": 2,
       "version_minor": 0
      },
      "text/plain": [
       "FigureCanvasNbAgg()"
      ]
     },
     "metadata": {},
     "output_type": "display_data"
    },
    {
     "data": {
      "application/vnd.jupyter.widget-view+json": {
       "model_id": "1663a874070d4435856c419d5338c47f",
       "version_major": 2,
       "version_minor": 0
      },
      "text/plain": [
       "Button(description='Start', style=ButtonStyle())"
      ]
     },
     "metadata": {},
     "output_type": "display_data"
    },
    {
     "data": {
      "application/vnd.jupyter.widget-view+json": {
       "model_id": "0ea95e709f914be4b451cdcd77130f90",
       "version_major": 2,
       "version_minor": 0
      },
      "text/plain": [
       "Button(description='Terminate', style=ButtonStyle())"
      ]
     },
     "metadata": {},
     "output_type": "display_data"
    },
    {
     "data": {
      "application/vnd.jupyter.widget-view+json": {
       "model_id": "9be6c2d4a5ec46729a88798f208805d4",
       "version_major": 2,
       "version_minor": 0
      },
      "text/plain": [
       "Button(description='Clear logs', style=ButtonStyle())"
      ]
     },
     "metadata": {},
     "output_type": "display_data"
    },
    {
     "data": {
      "application/vnd.jupyter.widget-view+json": {
       "model_id": "f12d675b652e4872a4baeed34f287fdb",
       "version_major": 2,
       "version_minor": 0
      },
      "text/plain": [
       "Output(layout=Layout(border='1px solid white', height='300px', overflow='auto'))"
      ]
     },
     "metadata": {},
     "output_type": "display_data"
    },
    {
     "data": {
      "application/vnd.jupyter.widget-view+json": {
       "model_id": "23add57220f8485c9538322f4e8ced09",
       "version_major": 2,
       "version_minor": 0
      },
      "text/plain": [
       "Output(layout=Layout(border='1px solid white'))"
      ]
     },
     "metadata": {},
     "output_type": "display_data"
    }
   ],
   "source": [
    "try:\n",
    "    daw.terminate()\n",
    "except NameError:\n",
    "    pass\n",
    "\n",
    "fig, ax = start_figure(\"DAW Monitor\", figsize=(8, 5))\n",
    "daw = Daw()\n",
    "\n",
    "# ax.plot(range(10))\n",
    "# plt.show()\n"
   ]
  }
 ],
 "metadata": {
  "kernelspec": {
   "display_name": "Python 3",
   "language": "python",
   "name": "python3"
  },
  "language_info": {
   "codemirror_mode": {
    "name": "ipython",
    "version": 3
   },
   "file_extension": ".py",
   "mimetype": "text/x-python",
   "name": "python",
   "nbconvert_exporter": "python",
   "pygments_lexer": "ipython3",
   "version": "3.7.3"
  }
 },
 "nbformat": 4,
 "nbformat_minor": 2
}
