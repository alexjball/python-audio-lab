{
 "cells": [
  {
   "cell_type": "markdown",
   "metadata": {},
   "source": [
    "# Audio Processing\n",
    "\n",
    "This notebook plays with different audio procesing algorithms and develops a flexible way to wire them up.\n",
    "\n",
    "The problem: ad-hoc implementations of processing algorithms mix I/O and algorithm logic, making the algorithm less portable.\n",
    "\n",
    "The solution: define standard patterns for algorithms to declare inputs and outputs and specify how data moves from inputs to outputs, and for clients to create and join algorithms into a full processing graph.\n",
    "\n",
    "Use cases:\n",
    "- Recording a song\n",
    "- Creating a visualization that can analyze audio files or live inputs\n",
    "- Creating a real-time audio effect\n",
    "- Creating an offline audio effect\n",
    "\n",
    "# Design\n",
    "\n",
    "The data flow building block is the Channel, a one-way 1-N data transport. \n",
    "\n",
    "Channel output can be connected to buffers or transform methods. Channels have a write method for input.\n",
    "\n",
    "Algorithms use one channel per logical input and output. They configure the output side of their input channels, input side of their output channels using buffers or transform objects. They are also responsible for scheduling work to read and write any buffers used to connect inputs and outputs."
   ]
  },
  {
   "cell_type": "code",
   "execution_count": 14,
   "metadata": {},
   "outputs": [
    {
     "data": {
      "application/vnd.jupyter.widget-view+json": {
       "model_id": "74d77cecb40d4d65b189dcec674049bd",
       "version_major": 2,
       "version_minor": 0
      },
      "text/plain": [
       "Button(description='Clear logs', style=ButtonStyle())"
      ]
     },
     "metadata": {},
     "output_type": "display_data"
    },
    {
     "data": {
      "application/vnd.jupyter.widget-view+json": {
       "model_id": "bea9177571d744b5a65295b9d887f570",
       "version_major": 2,
       "version_minor": 0
      },
      "text/plain": [
       "Output(layout=Layout(border='1px solid white', height='300px', overflow='auto'))"
      ]
     },
     "metadata": {},
     "output_type": "display_data"
    }
   ],
   "source": [
    "%matplotlib widget\n",
    "\n",
    "import pyaudio\n",
    "import numpy as np\n",
    "from IPython.display import display\n",
    "import ipywidgets as widgets\n",
    "from pprint import pprint\n",
    "import logging\n",
    "import threading\n",
    "import librosa\n",
    "import time\n",
    "\n",
    "from jupyter_utils import *\n",
    "from audio_tools import *\n",
    "\n",
    "# Set up the root logger and display its output in this cell.\n",
    "logger = get_cell_logger(__name__)\n",
    "logger.show_logs()"
   ]
  },
  {
   "cell_type": "code",
   "execution_count": null,
   "metadata": {},
   "outputs": [],
   "source": [
    "graph_running = False\n",
    "\n",
    "def run_graph(file):\n",
    "    # Create graph nodes\n",
    "    gain = Gain()\n",
    "    audio = AudioFileLoader()\n",
    "    input_buffer = AudioBuffer(num_frames=10**6)\n",
    "    output_queue = AudioQueue(num_frames=4096)\n",
    "\n",
    "    # Connect nodes\n",
    "    audio.output.add_sink(gain.input)\n",
    "    audio.output.add_sink(input_buffer)\n",
    "    gain.output.add_sink(output_queue)\n",
    "\n",
    "    # Start data flow\n",
    "    audio.load_async(file)\n",
    "\n",
    "    def read_output():\n",
    "        while graph_running:\n",
    "            time.sleep(.1)\n",
    "            data = output_queue.read(output_queue.read_available())\n",
    "            logger.info(f'read {data.shape[0]} frames, audio.is_loading {audio.is_loading()}, input_buffer read {input_buffer.read_available()}')\n",
    "\n",
    "    global graph_running\n",
    "    graph_running = True\n",
    "    threading.Thread(target=read_output).start()\n",
    "\n",
    "debug_view = widgets.Output(layout={'border': '1px solid white'})\n",
    "    \n",
    "@debug_view.capture(clear_output=True)\n",
    "def toggle(b):\n",
    "    global graph_running\n",
    "    if graph_running:\n",
    "        graph_running = False\n",
    "        run_button.description = \"Start\"\n",
    "    else:\n",
    "        run_button.description = \"Stop\"\n",
    "        run_graph('a2_mp_rr2.wav')\n",
    "\n",
    "run_button = widgets.Button(description=\"Start\")\n",
    "run_button.on_click(toggle)\n",
    "display(run_button)\n",
    "logger.show_logs()\n",
    "display(debug_view)\n"
   ]
  },
  {
   "cell_type": "code",
   "execution_count": 4,
   "metadata": {},
   "outputs": [
    {
     "data": {
      "application/vnd.jupyter.widget-view+json": {
       "model_id": "1b321c0c25fa451bb9d6b1af3ef5d684",
       "version_major": 2,
       "version_minor": 0
      },
      "text/plain": [
       "Button(description='Start', style=ButtonStyle())"
      ]
     },
     "metadata": {},
     "output_type": "display_data"
    },
    {
     "data": {
      "application/vnd.jupyter.widget-view+json": {
       "model_id": "869458dd629041208dc5b7c39f39357a",
       "version_major": 2,
       "version_minor": 0
      },
      "text/plain": [
       "Button(description='Terminate', style=ButtonStyle())"
      ]
     },
     "metadata": {},
     "output_type": "display_data"
    },
    {
     "data": {
      "application/vnd.jupyter.widget-view+json": {
       "model_id": "02adadb0c5194e21a44d4c77293d2aab",
       "version_major": 2,
       "version_minor": 0
      },
      "text/plain": [
       "Button(description='Clear logs', style=ButtonStyle())"
      ]
     },
     "metadata": {},
     "output_type": "display_data"
    },
    {
     "data": {
      "application/vnd.jupyter.widget-view+json": {
       "model_id": "9ae43e81e70243259c80abf425ac0718",
       "version_major": 2,
       "version_minor": 0
      },
      "text/plain": [
       "Output(layout=Layout(border='1px solid white', height='300px', overflow='auto'))"
      ]
     },
     "metadata": {},
     "output_type": "display_data"
    },
    {
     "data": {
      "application/vnd.jupyter.widget-view+json": {
       "model_id": "a1a4edf35ddf4dfd9fb5a60fc03ba7dc",
       "version_major": 2,
       "version_minor": 0
      },
      "text/plain": [
       "Output(layout=Layout(border='1px solid white'))"
      ]
     },
     "metadata": {},
     "output_type": "display_data"
    }
   ],
   "source": [
    "try:\n",
    "    daw.terminate()\n",
    "except NameError:\n",
    "    pass\n",
    "\n",
    "daw = Daw()"
   ]
  }
 ],
 "metadata": {
  "kernelspec": {
   "display_name": "Python 3",
   "language": "python",
   "name": "python3"
  },
  "language_info": {
   "codemirror_mode": {
    "name": "ipython",
    "version": 3
   },
   "file_extension": ".py",
   "mimetype": "text/x-python",
   "name": "python",
   "nbconvert_exporter": "python",
   "pygments_lexer": "ipython3",
   "version": "3.7.3"
  }
 },
 "nbformat": 4,
 "nbformat_minor": 2
}
