{
 "cells": [
  {
   "cell_type": "markdown",
   "metadata": {},
   "source": [
    "# Audio Processing\n",
    "\n",
    "This notebook plays with different audio procesing algorithms and develops a flexible way to wire them up.\n",
    "\n",
    "The problem: ad-hoc implementations of processing algorithms mix I/O and algorithm logic, making the algorithm less portable.\n",
    "\n",
    "The solution: define standard patterns for algorithms to declare inputs and outputs and specify how data moves from inputs to outputs, and for clients to create and join algorithms into a full processing graph.\n",
    "\n",
    "Use cases:\n",
    "- Recording a song\n",
    "- Creating a visualization that can analyze audio files or live inputs\n",
    "- Creating a real-time audio effect\n",
    "- Creating an offline audio effect\n",
    "\n",
    "# Design\n",
    "\n",
    "The data flow building block is the Channel, a one-way 1-N data transport. \n",
    "\n",
    "Channel output can be connected to buffers or transform methods. Channels have a write method for input.\n",
    "\n",
    "Algorithms use one channel per logical input and output. They configure the output side of their input channels, input side of their output channels using buffers or transform objects. They are also responsible for scheduling work to read and write any buffers used to connect inputs and outputs."
   ]
  },
  {
   "cell_type": "code",
   "execution_count": 1,
   "metadata": {},
   "outputs": [
    {
     "data": {
      "application/vnd.jupyter.widget-view+json": {
       "model_id": "5931cfa08cea43bbb1f62163cc45c06b",
       "version_major": 2,
       "version_minor": 0
      },
      "text/plain": [
       "Button(description='Clear logs', style=ButtonStyle())"
      ]
     },
     "metadata": {},
     "output_type": "display_data"
    },
    {
     "data": {
      "application/vnd.jupyter.widget-view+json": {
       "model_id": "f3794e58e8cb4d259350591950516359",
       "version_major": 2,
       "version_minor": 0
      },
      "text/plain": [
       "Output(layout=Layout(border='1px solid white', height='300px', overflow='auto'))"
      ]
     },
     "metadata": {},
     "output_type": "display_data"
    }
   ],
   "source": [
    "%matplotlib widget\n",
    "\n",
    "import matplotlib.pyplot as plt\n",
    "from matplotlib.animation import FuncAnimation\n",
    "import pyaudio\n",
    "import numpy as np\n",
    "from IPython.display import display\n",
    "import ipywidgets as widgets\n",
    "from pprint import pprint\n",
    "import logging\n",
    "import threading\n",
    "import librosa\n",
    "import time\n",
    "\n",
    "from jupyter_utils import *\n",
    "from audio_tools import Daw\n",
    "\n",
    "# Set up the root logger and display its output in this cell.\n",
    "logger = get_cell_logger()\n",
    "logger.show_logs()"
   ]
  },
  {
   "cell_type": "code",
   "execution_count": 2,
   "metadata": {},
   "outputs": [
    {
     "data": {
      "application/vnd.jupyter.widget-view+json": {
       "model_id": "4f713c3dfdb54314b3a8a1744279bef5",
       "version_major": 2,
       "version_minor": 0
      },
      "text/plain": [
       "FigureCanvasNbAgg()"
      ]
     },
     "metadata": {},
     "output_type": "display_data"
    },
    {
     "data": {
      "application/vnd.jupyter.widget-view+json": {
       "model_id": "a5553162ab754cdfb0a2153c6ee08c23",
       "version_major": 2,
       "version_minor": 0
      },
      "text/plain": [
       "Button(description='Start', style=ButtonStyle())"
      ]
     },
     "metadata": {},
     "output_type": "display_data"
    },
    {
     "data": {
      "application/vnd.jupyter.widget-view+json": {
       "model_id": "894026ad39094576a677f8d4db36416f",
       "version_major": 2,
       "version_minor": 0
      },
      "text/plain": [
       "Button(description='Terminate', style=ButtonStyle())"
      ]
     },
     "metadata": {},
     "output_type": "display_data"
    },
    {
     "data": {
      "application/vnd.jupyter.widget-view+json": {
       "model_id": "03cfd442e9b74c9ba22f8a6d7b90cad6",
       "version_major": 2,
       "version_minor": 0
      },
      "text/plain": [
       "Button(description='Clear logs', style=ButtonStyle())"
      ]
     },
     "metadata": {},
     "output_type": "display_data"
    },
    {
     "data": {
      "application/vnd.jupyter.widget-view+json": {
       "model_id": "5232ea4981074f30b5f00fb728d6a973",
       "version_major": 2,
       "version_minor": 0
      },
      "text/plain": [
       "Output(layout=Layout(border='1px solid white', height='300px', overflow='auto'))"
      ]
     },
     "metadata": {},
     "output_type": "display_data"
    },
    {
     "data": {
      "application/vnd.jupyter.widget-view+json": {
       "model_id": "3e4453d6c8ff4f4b8205caee79a1d049",
       "version_major": 2,
       "version_minor": 0
      },
      "text/plain": [
       "Output(layout=Layout(border='1px solid white'))"
      ]
     },
     "metadata": {},
     "output_type": "display_data"
    }
   ],
   "source": [
    "try:\n",
    "    daw.terminate()\n",
    "except NameError:\n",
    "    pass\n",
    "\n",
    "fig, ax = start_figure(\"DAW Monitor\", figsize=(8, 5))\n",
    "daw = Daw()\n",
    "\n",
    "# ax.plot(range(10))\n",
    "# plt.show()\n"
   ]
  },
  {
   "cell_type": "code",
   "execution_count": 3,
   "metadata": {},
   "outputs": [
    {
     "data": {
      "text/plain": [
       "0.09287981859410431"
      ]
     },
     "execution_count": 3,
     "metadata": {},
     "output_type": "execute_result"
    }
   ],
   "source": [
    "4096 / 44100"
   ]
  }
 ],
 "metadata": {
  "kernelspec": {
   "display_name": "Python 3",
   "language": "python",
   "name": "python3"
  },
  "language_info": {
   "codemirror_mode": {
    "name": "ipython",
    "version": 3
   },
   "file_extension": ".py",
   "mimetype": "text/x-python",
   "name": "python",
   "nbconvert_exporter": "python",
   "pygments_lexer": "ipython3",
   "version": "3.7.3"
  }
 },
 "nbformat": 4,
 "nbformat_minor": 2
}
