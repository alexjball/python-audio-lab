{
 "cells": [
  {
   "cell_type": "code",
   "execution_count": 46,
   "metadata": {},
   "outputs": [],
   "source": [
    "# Load deps for plotting, math, and UI\n",
    "\n",
    "%matplotlib widget\n",
    "\n",
    "import matplotlib\n",
    "import matplotlib.pyplot as plt\n",
    "import numpy as np\n",
    "import scipy.signal\n",
    "from IPython.display import Audio\n",
    "from ipywidgets import interact, interactive, fixed, interact_manual\n",
    "import ipywidgets as widgets\n",
    "import pprint\n",
    "\n",
    "matplotlib.rcParams['figure.figsize'] = [3, 2]\n",
    "\n",
    "def start_figure(label, **kwargs):\n",
    "    \"\"\"Creates a figure and axes, closing an existing one\"\"\"\n",
    "    plt.close(label)\n",
    "    return plt.subplots(**kwargs, num = label)\n",
    "\n",
    "def fig_name():\n",
    "    return plt.gcf()"
   ]
  },
  {
   "cell_type": "markdown",
   "metadata": {},
   "source": [
    "# Plotting pickup frequency response\n",
    "\n",
    "A pickup in a circuit with active filters sees a resistive + capacitive input impedance as part of the buffer's input circuit. This modifies the frequency response of the pickup.\n",
    "\n",
    "![pickup](http://buildyourguitar.com/resources/lemme/secrets3.gif)\n",
    "\n",
    "With $C_L$ and $R_L$ the load, $Z_1$ the lumped impedance of the pickup inductance and resistance, $Z_2$ the lumped impedance of the pickup capacitance and load, $V_O$ the potential before the load, and $V_I$ the unfiltered pickup response,\n",
    "\n",
    "$$\n",
    "\\frac{V_O}{V_I} = \\frac{IZ_2}{I(Z_1 + Z_2)} = \\frac{1}{(C + C_L)Ls^2 + (\\frac{L}{R_L} + R(C + C_L))s + (1 + \\frac{R}{R_L})}\n",
    "$$\n",
    "\n",
    "We can feed this into [scipy.signal.freqs](https://docs.scipy.org/doc/scipy/reference/generated/scipy.signal.freqs.html#scipy.signal.freqs) or scipy.signal.freqz. I'm not sure what the difference between the \"analog\" and \"digital\" variants is."
   ]
  },
  {
   "cell_type": "code",
   "execution_count": 47,
   "metadata": {},
   "outputs": [
    {
     "data": {
      "application/vnd.jupyter.widget-view+json": {
       "model_id": "0eca47f54edb40b8bef955dce6a1cc1d",
       "version_major": 2,
       "version_minor": 0
      },
      "text/plain": [
       "FigureCanvasNbAgg()"
      ]
     },
     "metadata": {},
     "output_type": "display_data"
    },
    {
     "data": {
      "application/vnd.jupyter.widget-view+json": {
       "model_id": "222d730ad0d44594b0e0bd0bfc19ccbd",
       "version_major": 2,
       "version_minor": 0
      },
      "text/plain": [
       "interactive(children=(FloatSlider(value=7000.0, description='R (Ohm)', max=20000.0, min=1000.0, step=500.0), F…"
      ]
     },
     "metadata": {},
     "output_type": "display_data"
    }
   ],
   "source": [
    "# Typical circuit values for a guitar\n",
    "L = 3.0 # Henry\n",
    "R = 7e3 # Ohm\n",
    "C = 300e-12 # Farad\n",
    "R_L = 1e6 # Ohm, from the cable and volume\n",
    "C_L = 300e-12 # Farad, from the cable and tone\n",
    "\n",
    "def pickup_frequency_response(f, r, l, c, r_l, c_l):\n",
    "    \"\"\"Return the complex pickup frequency response given circuit values\"\"\"\n",
    "    \n",
    "    # Numerator coefficients\n",
    "    b = [1]\n",
    "    # Denominator coefficients\n",
    "    a = [(c + c_l) * l, (l / r_l + r * (c + c_l)), 1 + r / r_l]\n",
    "    _, h = scipy.signal.freqs(b, a, worN = f * 2 * np.pi)\n",
    "    \n",
    "    return h\n",
    "    \n",
    "\n",
    "fig, ax = start_figure('Pickup Frequency Response', figsize = (6, 4))\n",
    "ax.set_xlabel('Hz')\n",
    "ax.set_ylabel('Gain')\n",
    "ax.set_xscale('log')\n",
    "ax.set_yscale('log')\n",
    "ax.set_ylim(1e-1, 10)\n",
    "ax.set_title(fig_name())\n",
    "\n",
    "f = np.linspace(0, 20e3, 400)\n",
    "\n",
    "response_line, = ax.plot(f, np.ones(f.shape))\n",
    "\n",
    "@interact(\n",
    "    r = widgets.FloatSlider(\n",
    "        min = 1e3, max = 20e3, step = .5e3, value = 7e3, description = 'R (Ohm)'),\n",
    "    l = widgets.FloatSlider(\n",
    "        min = .5, max = 7, step = .2, value = 3, description = 'L (H)'),\n",
    "    c = widgets.FloatSlider(\n",
    "        min = 100, max = 700, step = 20, value = 300, description = 'C (pF)'),\n",
    "    r_l = widgets.FloatLogSlider(\n",
    "        min = 3, max = 7, step = .1, value = 1e6, description = 'R_L (Ohm)'),\n",
    "    c_l = widgets.FloatSlider(\n",
    "        min = 50, max = 2000, step = 50, value = 300, description = 'C_L (pF)'))\n",
    "def update_frequency_response(r, l, c, r_l, c_l):\n",
    "    h = pickup_frequency_response(f, r, l, c * 1e-12, r_l, c_l * 1e-12)\n",
    "    response_line.set_ydata(abs(h))\n",
    "    "
   ]
  },
  {
   "cell_type": "markdown",
   "metadata": {},
   "source": [
    "# Psychoacoustic and Physical Guitar Tone Modeling\n",
    "\n",
    "Guitar players use a lot of poetic terminology to describe sounds, like \"crunchy\", \"tight\", \"flubby\", \"aggressive\", \"growl\", etc. In the end, this is a language that guitarists use to describe sounds. The language is valuable because it provides a more expressive way to communicate about sounds. The language can also be manipulated by marketing, which can takes advantage of the loosely defined terminology to upsell products. \n",
    "\n",
    "Guitarists are always looking make the sound they imagine and describe in their language a reality. This is a hard, creative, emergent, non-deterministic, heuristic, and essential process. Bridging the gap between what you imagine and what is possible is what makes it music, and musicians will seek that out no matter how good technology gets. So making it easy to achieve the sounds you imagine frees our minds up to make more creative music.\n",
    "\n",
    "# Problems\n",
    "\n",
    "- Guitar electronics can be finiky\n",
    "- Can be hard to dial in tone\n",
    "- Volume issues\n",
    "\n",
    "# Solutions\n",
    "\n",
    "- Custom control inputs\n",
    "- Digital control units\n",
    "- Onboard preamps\n",
    "- Digital connection between pedal and guitar"
   ]
  },
  {
   "cell_type": "code",
   "execution_count": 26,
   "metadata": {},
   "outputs": [
    {
     "data": {
      "application/vnd.jupyter.widget-view+json": {
       "model_id": "9c49193c4e1a4a169793a12e281cc378",
       "version_major": 2,
       "version_minor": 0
      },
      "text/plain": [
       "FigureCanvasNbAgg()"
      ]
     },
     "metadata": {},
     "output_type": "display_data"
    },
    {
     "data": {
      "application/vnd.jupyter.widget-view+json": {
       "model_id": "c46048f0266d4fc296c8fff40fb273c6",
       "version_major": 2,
       "version_minor": 0
      },
      "text/plain": [
       "interactive(children=(FloatSlider(value=0.5, description='f', max=2.0, min=0.3), Output()), _dom_classes=('wid…"
      ]
     },
     "metadata": {},
     "output_type": "display_data"
    },
    {
     "data": {
      "text/plain": [
       "<function __main__.update(f)>"
      ]
     },
     "execution_count": 26,
     "metadata": {},
     "output_type": "execute_result"
    }
   ],
   "source": [
    "# Example of an interactive graph. Moving the slider adjusts the frequency.\n",
    "# Requires the widget backend\n",
    "\n",
    "fig, ax = start_figure('Interactive Graph')\n",
    "ax.set_xlim(0, 10)\n",
    "ax.set_ylim(-1.1, 1.1)\n",
    "\n",
    "x = np.linspace(0, 10, 400)\n",
    "y = lambda x, f: np.sin(2 * np.pi * f * x)\n",
    "f_0 = .5\n",
    "\n",
    "line1, = ax.plot(x, y(x, f_0), 'r-')\n",
    "\n",
    "def update(f):\n",
    "    line1.set_ydata(y(x, f))\n",
    "    fig.canvas.draw()\n",
    "    fig.canvas.flush_events()\n",
    "\n",
    "interact(update, f = widgets.FloatSlider(min = .3, max = 2, step = .1, value = f_0))"
   ]
  },
  {
   "cell_type": "code",
   "execution_count": null,
   "metadata": {},
   "outputs": [],
   "source": []
  }
 ],
 "metadata": {
  "kernelspec": {
   "display_name": "Python 3",
   "language": "python",
   "name": "python3"
  },
  "language_info": {
   "codemirror_mode": {
    "name": "ipython",
    "version": 3
   },
   "file_extension": ".py",
   "mimetype": "text/x-python",
   "name": "python",
   "nbconvert_exporter": "python",
   "pygments_lexer": "ipython3",
   "version": "3.7.3"
  }
 },
 "nbformat": 4,
 "nbformat_minor": 2
}
